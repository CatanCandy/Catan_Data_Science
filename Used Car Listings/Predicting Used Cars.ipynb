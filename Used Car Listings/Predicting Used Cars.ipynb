{
 "cells": [
  {
   "cell_type": "code",
   "execution_count": 151,
   "id": "eefa3cee",
   "metadata": {},
   "outputs": [],
   "source": [
    "import pandas as pd\n",
    "\n",
    "df = pd.read_csv('dataset.csv')\n"
   ]
  },
  {
   "cell_type": "markdown",
   "id": "48bae6ae",
   "metadata": {},
   "source": [
    "DATA PREPROCESSING"
   ]
  },
  {
   "cell_type": "code",
   "execution_count": 152,
   "id": "a4b0ecfe",
   "metadata": {},
   "outputs": [],
   "source": [
    "# No electric engines\n",
    "df.drop(['model','exterior_color','interior_color','engine','memory_seat'],axis=1, inplace=True)\n",
    "df.dropna(subset=['transmission','engine_size'],inplace=True)\n",
    "\n",
    "median_list = ['min_mpg','max_mpg','first_owner','damaged','personal_using']\n",
    "for item in median_list:\n",
    "    med = df[item].median()\n",
    "    df[item].fillna(med, inplace = True)\n",
    "\n",
    "df['price'] = df['price'].replace(['ot Priced'],0)\n",
    "df['price'] = df['price'].replace([0],df['price'].median())\n",
    "\n",
    "\n",
    "for columnName in df:\n",
    "    mode = df[columnName].mode()\n",
    "    df[columnName].fillna(mode, inplace=True)\n",
    "    \n",
    "df[\"price\"] = df[\"price\"].astype(\"float\")\n"
   ]
  },
  {
   "cell_type": "markdown",
   "id": "acfac3da",
   "metadata": {},
   "source": [
    "Certain categorical features have multiple unique values (>10), which may be resource consuming and hard for the model to cover different kinds of combinations. This step aims to reduce unique values who account for less than the threshold (this case 5% of all rows) and labels it as '[Column_Name]_RARE' unique value.\n",
    "\n",
    "Source: https://github.com/danbochman/Fatality-Analysis-Reporting-System/blob/master/FARS%20Notebook%20-%20Completed%20-%20Handling%20Categorical%20Data.ipynb"
   ]
  },
  {
   "cell_type": "code",
   "execution_count": 153,
   "id": "89b10e85",
   "metadata": {
    "scrolled": true
   },
   "outputs": [
    {
     "name": "stdout",
     "output_type": "stream",
     "text": [
      "The minimum count threshold is: 111.265\n"
     ]
    }
   ],
   "source": [
    "tot_instances = df.shape[0]\n",
    "threshold = tot_instances*0.005\n",
    "print ('The minimum count threshold is: '+str(threshold))\n",
    "\n",
    "# Apply the count threshold to all the categorical values\n",
    "obj_columns = list(df.select_dtypes(include=['object']).columns)    # Get a list of all the columns' names with object dtype\n",
    "obj_columns.remove('brand')                               # If you chose to keep rare classes\n",
    "df = df.apply(lambda x: x.mask(x.map(x.value_counts())<threshold, 'RARE') if x.name in obj_columns else x)"
   ]
  },
  {
   "cell_type": "markdown",
   "id": "a11770dd",
   "metadata": {},
   "source": [
    "Perform one hot encoding on all values"
   ]
  },
  {
   "cell_type": "code",
   "execution_count": 154,
   "id": "4d883c82",
   "metadata": {},
   "outputs": [],
   "source": [
    "df_encoded = df[obj_columns] \n",
    "df_encoded = pd.get_dummies(data=df, columns=obj_columns)\n",
    "\n",
    "# Converts any boolean col dtypes into int\n",
    "df_encoded = df_encoded *1\n"
   ]
  },
  {
   "cell_type": "code",
   "execution_count": 155,
   "id": "95ae0541",
   "metadata": {
    "scrolled": true
   },
   "outputs": [],
   "source": [
    "obj_columns.append('brand')\n",
    "merged = pd.concat([df,df_encoded],axis='columns')\n",
    "merged.drop(obj_columns, axis=1,inplace=True)\n"
   ]
  },
  {
   "cell_type": "code",
   "execution_count": 156,
   "id": "1b98ea92",
   "metadata": {
    "scrolled": true
   },
   "outputs": [],
   "source": [
    "final_df = merged.drop(['transmission_10-Speed Automatic','fuel_type_Diesel',\n",
    "                        'drivetrain_Rear-wheel Drive'],axis='columns')\n",
    "\n",
    "# Removes Duplicates\n",
    "final_df = final_df.loc[:, ~final_df.columns.duplicated()]\n",
    "\n",
    "# Standardize data using min-max scaling\n",
    "for column in final_df.columns:\n",
    "    final_df[column] = (final_df[column] - final_df[column].min()) / (final_df[column].max() - final_df[column].min())\n",
    "\n",
    "\n",
    "\n",
    "# final_df.to_csv('UsedCars_Processed.csv')"
   ]
  },
  {
   "cell_type": "markdown",
   "id": "cbf86479",
   "metadata": {},
   "source": [
    "Price feature is seen to have many outliers which may skew or heavily affect model accuracy. Since price feature is understood to be labelled by users on cars.com, there might be some level of human error/bias. Thus it is necessary to address said outliers"
   ]
  },
  {
   "cell_type": "code",
   "execution_count": 166,
   "id": "1031e58e",
   "metadata": {},
   "outputs": [
    {
     "data": {
      "text/plain": [
       "<Axes: >"
      ]
     },
     "execution_count": 166,
     "metadata": {},
     "output_type": "execute_result"
    },
    {
     "data": {
      "image/png": "[encoded data removed]",
      "text/plain": [
       "<Figure size 432x288 with 1 Axes>"
      ]
     },
     "metadata": {
      "needs_background": "light"
     },
     "output_type": "display_data"
    }
   ],
   "source": [
    "final_df.boxplot(column =['price'], grid = False)"
   ]
  },
  {
   "cell_type": "code",
   "execution_count": 158,
   "id": "508d02aa",
   "metadata": {
    "scrolled": true
   },
   "outputs": [
    {
     "name": "stderr",
     "output_type": "stream",
     "text": [
      "C:\\Users\\Ram\\AppData\\Local\\Temp/ipykernel_20524/2325400625.py:7: UserWarning: Boolean Series key will be reindexed to match DataFrame index.\n",
      "  final_df = final_df[final_df[\"price\"] <= UpperBound_weight][final_df[\"price\"] >= LowerBound_weight]\n"
     ]
    }
   ],
   "source": [
    "# PRICE OUTLIERS\n",
    "\n",
    "IQR_weight = final_df[\"price\"].quantile(0.75) - final_df[\"price\"].quantile(0.25)\n",
    "UpperBound_weight = final_df[\"price\"].quantile(0.75) + 1.5*IQR_weight\n",
    "LowerBound_weight = 0 \n",
    "\n",
    "final_df = final_df[final_df[\"price\"] <= UpperBound_weight][final_df[\"price\"] >= LowerBound_weight]"
   ]
  },
  {
   "cell_type": "markdown",
   "id": "6ffb50c0",
   "metadata": {},
   "source": [
    "Looked at the outliers for Year, Max_MPG, and Min_MPG. The outliers for these features were found to be realistic and exists in the current car industry (i.e. Certain car models and brands can have a max of 97 mpg). Thus the outliers for these features remain to be untouched.  \n"
   ]
  },
  {
   "cell_type": "code",
   "execution_count": 159,
   "id": "02acdfbb",
   "metadata": {},
   "outputs": [
    {
     "data": {
      "text/plain": [
       "<Axes: >"
      ]
     },
     "execution_count": 159,
     "metadata": {},
     "output_type": "execute_result"
    },
    {
     "data": {
      "image/png": "[encoded data removed]",
      "text/plain": [
       "<Figure size 432x288 with 1 Axes>"
      ]
     },
     "metadata": {
      "needs_background": "light"
     },
     "output_type": "display_data"
    }
   ],
   "source": [
    "\n",
    "final_df.boxplot(column =['year','max_mpg','min_mpg'], grid = False)"
   ]
  },
  {
   "cell_type": "code",
   "execution_count": 160,
   "id": "845907a0",
   "metadata": {},
   "outputs": [],
   "source": [
    "\n",
    "\n",
    "# final_df.to_csv('UsedCars_Processed.csv')"
   ]
  },
  {
   "cell_type": "markdown",
   "id": "3251e41d",
   "metadata": {},
   "source": [
    "MODEL CREATION"
   ]
  },
  {
   "cell_type": "code",
   "execution_count": 161,
   "id": "b1b5337e",
   "metadata": {},
   "outputs": [],
   "source": [
    "from sklearn.metrics import confusion_matrix\n",
    "from sklearn.linear_model import LinearRegression\n",
    "from sklearn.model_selection import train_test_split\n",
    "\n",
    "model = LinearRegression()\n",
    "\n",
    "features = final_df.drop(['price'],axis=1)\n",
    "target = final_df['price']\n",
    "\n",
    "X_train, X_test, y_train, y_test = train_test_split(features, target, random_state = 0, test_size=0.2)"
   ]
  },
  {
   "cell_type": "code",
   "execution_count": 162,
   "id": "23b6fd0a",
   "metadata": {},
   "outputs": [
    {
     "data": {
      "text/plain": [
       "LinearRegression()"
      ]
     },
     "execution_count": 162,
     "metadata": {},
     "output_type": "execute_result"
    }
   ],
   "source": [
    "model.fit(X_train,y_train)"
   ]
  },
  {
   "cell_type": "code",
   "execution_count": 163,
   "id": "a0ca4a01",
   "metadata": {},
   "outputs": [],
   "source": [
    "matr = model.predict(X_train)"
   ]
  },
  {
   "cell_type": "code",
   "execution_count": 164,
   "id": "6d9b6f0a",
   "metadata": {},
   "outputs": [
    {
     "data": {
      "image/png": "[encoded data removed]",
      "text/plain": [
       "<Figure size 432x288 with 1 Axes>"
      ]
     },
     "metadata": {
      "needs_background": "light"
     },
     "output_type": "display_data"
    }
   ],
   "source": [
    "import matplotlib.pyplot as plt\n",
    "plt.scatter(y_train, matr)\n",
    "plt.xlabel(\"Actual price\")\n",
    "plt.ylabel(\"Predicted price\")\n",
    "plt.show()"
   ]
  },
  {
   "cell_type": "code",
   "execution_count": 165,
   "id": "0ab3011d",
   "metadata": {},
   "outputs": [
    {
     "data": {
      "text/plain": [
       "0.6658381446068447"
      ]
     },
     "execution_count": 165,
     "metadata": {},
     "output_type": "execute_result"
    }
   ],
   "source": [
    "from sklearn.metrics import r2_score\n",
    "\n",
    "r2_score(y_train,matr)"
   ]
  },
  {
   "cell_type": "code",
   "execution_count": null,
   "id": "fbd83a54",
   "metadata": {},
   "outputs": [],
   "source": []
  },
  {
   "cell_type": "code",
   "execution_count": null,
   "id": "d58d0c85",
   "metadata": {},
   "outputs": [],
   "source": []
  },
  {
   "cell_type": "code",
   "execution_count": 167,
   "id": "226dc85a",
   "metadata": {},
   "outputs": [
    {
     "data": {
      "text/plain": [
       "0.6700524319593099"
      ]
     },
     "execution_count": 167,
     "metadata": {},
     "output_type": "execute_result"
    }
   ],
   "source": [
    "model.score(X_test,y_test)"
   ]
  }
 ],
 "metadata": {
  "kernelspec": {
   "display_name": "Python 3 (ipykernel)",
   "language": "python",
   "name": "python3"
  },
  "language_info": {
   "codemirror_mode": {
    "name": "ipython",
    "version": 3
   },
   "file_extension": ".py",
   "mimetype": "text/x-python",
   "name": "python",
   "nbconvert_exporter": "python",
   "pygments_lexer": "ipython3",
   "version": "3.9.7"
  }
 },
 "nbformat": 4,
 "nbformat_minor": 5
}
